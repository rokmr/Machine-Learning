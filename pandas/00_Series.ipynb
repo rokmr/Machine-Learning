{
  "cells": [
    {
      "cell_type": "markdown",
      "metadata": {
        "id": "view-in-github",
        "colab_type": "text"
      },
      "source": [
        "<a href=\"https://colab.research.google.com/github/rokmr/Machine-Learning/blob/firstBranch/pandas/00_Series.ipynb\" target=\"_parent\"><img src=\"https://colab.research.google.com/assets/colab-badge.svg\" alt=\"Open In Colab\"/></a>"
      ]
    },
    {
      "cell_type": "markdown",
      "metadata": {
        "id": "WxWXGLcxa9tw"
      },
      "source": [
        "___\n",
        "\n",
        "<a href='http://www.pieriandata.com'><img src='../Pierian_Data_Logo.png'/></a>\n",
        "___\n",
        "<center><em>Copyright by Pierian Data Inc.</em></center>\n",
        "<center><em>For more information, visit us at <a href='http://www.pieriandata.com'>www.pieriandata.com</a></em></center>"
      ]
    },
    {
      "cell_type": "markdown",
      "metadata": {
        "id": "o3rKpsXra9t2"
      },
      "source": [
        "# Series"
      ]
    },
    {
      "cell_type": "markdown",
      "metadata": {
        "id": "nLCsI_9Ua9t3"
      },
      "source": [
        "The first main data type we will learn about for pandas is the Series data type. Let's import Pandas and explore the Series object.\n",
        "\n",
        "A Series is very similar to a NumPy array (in fact it is built on top of the NumPy array object). What differentiates the NumPy array from a Series, is that a Series can have axis labels, meaning it can be indexed by a label, instead of just a number location. It also doesn't need to hold numeric data, it can hold any arbitrary Python Object.\n",
        "\n",
        "Let's explore this concept through some examples:"
      ]
    },
    {
      "cell_type": "markdown",
      "metadata": {
        "id": "7Z1BUMPla9t4"
      },
      "source": [
        "## Imports"
      ]
    },
    {
      "cell_type": "code",
      "execution_count": 1,
      "metadata": {
        "collapsed": true,
        "id": "3za9Zfgwa9t5"
      },
      "outputs": [],
      "source": [
        "import numpy as np\n",
        "import pandas as pd"
      ]
    },
    {
      "cell_type": "markdown",
      "metadata": {
        "id": "CfrOLxoKa9t8"
      },
      "source": [
        "## Creating a Series from Python Objects"
      ]
    },
    {
      "cell_type": "markdown",
      "metadata": {
        "id": "-ZdxomV7a9uA"
      },
      "source": [
        "### Index and Data Lists\n",
        "\n",
        "We can create a Series from Python lists (also from NumPy arrays)"
      ]
    },
    {
      "cell_type": "code",
      "execution_count": 3,
      "metadata": {
        "collapsed": true,
        "id": "CWj6UOVda9uB"
      },
      "outputs": [],
      "source": [
        "myindex = ['USA','Canada','Mexico']"
      ]
    },
    {
      "cell_type": "code",
      "execution_count": 4,
      "metadata": {
        "collapsed": true,
        "id": "QwBHFc9ca9uE"
      },
      "outputs": [],
      "source": [
        "mydata = [1776,1867,1821]"
      ]
    },
    {
      "cell_type": "code",
      "execution_count": 5,
      "metadata": {
        "id": "vpv4bo4Ga9uF"
      },
      "outputs": [],
      "source": [
        "myser = pd.Series(data=mydata)"
      ]
    },
    {
      "cell_type": "code",
      "execution_count": 6,
      "metadata": {
        "colab": {
          "base_uri": "https://localhost:8080/"
        },
        "id": "pkYHR4LHa9uF",
        "outputId": "ad9b81ec-3ea5-4f47-b25d-487884175f2b"
      },
      "outputs": [
        {
          "output_type": "execute_result",
          "data": {
            "text/plain": [
              "0    1776\n",
              "1    1867\n",
              "2    1821\n",
              "dtype: int64"
            ]
          },
          "metadata": {},
          "execution_count": 6
        }
      ],
      "source": [
        "myser"
      ]
    },
    {
      "cell_type": "code",
      "execution_count": 7,
      "metadata": {
        "colab": {
          "base_uri": "https://localhost:8080/"
        },
        "id": "1IV3dN47a9uG",
        "outputId": "9b2653ed-809b-4cd0-d1f6-53efc61af6d5"
      },
      "outputs": [
        {
          "output_type": "execute_result",
          "data": {
            "text/plain": [
              "USA       1776\n",
              "Canada    1867\n",
              "Mexico    1821\n",
              "dtype: int64"
            ]
          },
          "metadata": {},
          "execution_count": 7
        }
      ],
      "source": [
        "pd.Series(data=mydata,index=myindex)"
      ]
    },
    {
      "cell_type": "code",
      "execution_count": 10,
      "metadata": {
        "collapsed": true,
        "id": "xQlf2xMaa9uH"
      },
      "outputs": [],
      "source": [
        "ran_data = np.random.randint(0,100,4)"
      ]
    },
    {
      "cell_type": "code",
      "execution_count": 11,
      "metadata": {
        "colab": {
          "base_uri": "https://localhost:8080/"
        },
        "id": "iCF0jVQ5a9uH",
        "outputId": "164277ca-6e53-46b0-9994-5e6fc13baf99"
      },
      "outputs": [
        {
          "output_type": "execute_result",
          "data": {
            "text/plain": [
              "array([12, 68, 79, 12])"
            ]
          },
          "metadata": {},
          "execution_count": 11
        }
      ],
      "source": [
        "ran_data"
      ]
    },
    {
      "cell_type": "code",
      "execution_count": 12,
      "metadata": {
        "collapsed": true,
        "id": "XaB1AJjpa9uI"
      },
      "outputs": [],
      "source": [
        "names = ['Andrew','Bobo','Claire','David']"
      ]
    },
    {
      "cell_type": "code",
      "execution_count": 13,
      "metadata": {
        "id": "xt7MxHJ9a9uJ"
      },
      "outputs": [],
      "source": [
        "ages = pd.Series(ran_data,names)"
      ]
    },
    {
      "cell_type": "code",
      "execution_count": 15,
      "metadata": {
        "colab": {
          "base_uri": "https://localhost:8080/"
        },
        "id": "xvDQyVP9a9uJ",
        "outputId": "d7924af3-1e72-476a-bf8b-8659607107dd"
      },
      "outputs": [
        {
          "output_type": "execute_result",
          "data": {
            "text/plain": [
              "Andrew    12\n",
              "Bobo      68\n",
              "Claire    79\n",
              "David     12\n",
              "dtype: int64"
            ]
          },
          "metadata": {},
          "execution_count": 15
        }
      ],
      "source": [
        "ages"
      ]
    },
    {
      "cell_type": "markdown",
      "metadata": {
        "id": "ufsh0exxa9uK"
      },
      "source": [
        "### From a  Dictionary"
      ]
    },
    {
      "cell_type": "code",
      "execution_count": 16,
      "metadata": {
        "collapsed": true,
        "id": "nLgEeE6Ja9uK"
      },
      "outputs": [],
      "source": [
        "ages = {'Sammy':5,'Frank':10,'Spike':7}"
      ]
    },
    {
      "cell_type": "code",
      "execution_count": 17,
      "metadata": {
        "colab": {
          "base_uri": "https://localhost:8080/"
        },
        "id": "AlPDh_Ica9uK",
        "outputId": "aa02b680-f46f-41b7-9ada-ec0a32b2cc87"
      },
      "outputs": [
        {
          "output_type": "execute_result",
          "data": {
            "text/plain": [
              "{'Sammy': 5, 'Frank': 10, 'Spike': 7}"
            ]
          },
          "metadata": {},
          "execution_count": 17
        }
      ],
      "source": [
        "ages"
      ]
    },
    {
      "cell_type": "code",
      "execution_count": 18,
      "metadata": {
        "colab": {
          "base_uri": "https://localhost:8080/"
        },
        "id": "0oCm6gJ5a9uL",
        "outputId": "b046934a-2bae-4f80-cd19-435a75be3b37"
      },
      "outputs": [
        {
          "output_type": "execute_result",
          "data": {
            "text/plain": [
              "Sammy     5\n",
              "Frank    10\n",
              "Spike     7\n",
              "dtype: int64"
            ]
          },
          "metadata": {},
          "execution_count": 18
        }
      ],
      "source": [
        "pd.Series(ages)"
      ]
    },
    {
      "cell_type": "markdown",
      "metadata": {
        "id": "L2jhsfAMa9uL"
      },
      "source": [
        "# Key Ideas of a Series"
      ]
    },
    {
      "cell_type": "markdown",
      "metadata": {
        "id": "LRuCVRCLa9uL"
      },
      "source": [
        "## Named Index"
      ]
    },
    {
      "cell_type": "code",
      "execution_count": 19,
      "metadata": {
        "collapsed": true,
        "id": "sIvnxgCFa9uL"
      },
      "outputs": [],
      "source": [
        "# Imaginary Sales Data for 1st and 2nd Quarters for Global Company\n",
        "q1 = {'Japan': 80, 'China': 450, 'India': 200, 'USA': 250}\n",
        "q2 = {'Brazil': 100,'China': 500, 'India': 210,'USA': 260}"
      ]
    },
    {
      "cell_type": "code",
      "execution_count": 20,
      "metadata": {
        "collapsed": true,
        "id": "JBqdl1kLa9uM"
      },
      "outputs": [],
      "source": [
        "# Convert into Pandas Series\n",
        "sales_Q1 = pd.Series(q1)\n",
        "sales_Q2 = pd.Series(q2)"
      ]
    },
    {
      "cell_type": "code",
      "execution_count": 21,
      "metadata": {
        "colab": {
          "base_uri": "https://localhost:8080/"
        },
        "id": "hS_FAn-1a9uM",
        "outputId": "9e36de86-dcbe-4cd8-9954-8a4503fadfbc"
      },
      "outputs": [
        {
          "output_type": "execute_result",
          "data": {
            "text/plain": [
              "Japan     80\n",
              "China    450\n",
              "India    200\n",
              "USA      250\n",
              "dtype: int64"
            ]
          },
          "metadata": {},
          "execution_count": 21
        }
      ],
      "source": [
        "sales_Q1"
      ]
    },
    {
      "cell_type": "code",
      "execution_count": 22,
      "metadata": {
        "colab": {
          "base_uri": "https://localhost:8080/"
        },
        "id": "mtug_CEna9uM",
        "outputId": "7cb83867-cc51-46ac-fee9-46a219909f06"
      },
      "outputs": [
        {
          "output_type": "execute_result",
          "data": {
            "text/plain": [
              "80"
            ]
          },
          "metadata": {},
          "execution_count": 22
        }
      ],
      "source": [
        "# Call values based on Named Index\n",
        "sales_Q1['Japan']"
      ]
    },
    {
      "cell_type": "code",
      "execution_count": 23,
      "metadata": {
        "colab": {
          "base_uri": "https://localhost:8080/"
        },
        "id": "t_ZCuzMta9uN",
        "outputId": "aa4f6079-44b3-4df9-c188-c6c4e4b19c5a"
      },
      "outputs": [
        {
          "output_type": "execute_result",
          "data": {
            "text/plain": [
              "80"
            ]
          },
          "metadata": {},
          "execution_count": 23
        }
      ],
      "source": [
        "# Integer Based Location information also retained!\n",
        "sales_Q1[0]"
      ]
    },
    {
      "cell_type": "markdown",
      "metadata": {
        "id": "qbDJjEnma9uN"
      },
      "source": [
        "**Be careful with potential errors!**"
      ]
    },
    {
      "cell_type": "code",
      "execution_count": null,
      "metadata": {
        "collapsed": true,
        "id": "kwgVdstMa9uO"
      },
      "outputs": [],
      "source": [
        "# Wrong Name\n",
        "# sales_Q1['France']"
      ]
    },
    {
      "cell_type": "code",
      "execution_count": null,
      "metadata": {
        "collapsed": true,
        "id": "fNZJncR8a9uO"
      },
      "outputs": [],
      "source": [
        "# Accidental Extra Space\n",
        "# sales_Q1['USA ']"
      ]
    },
    {
      "cell_type": "code",
      "execution_count": null,
      "metadata": {
        "collapsed": true,
        "id": "uf_MYUP2a9uO"
      },
      "outputs": [],
      "source": [
        "# Capitalization Mistake\n",
        "# sales_Q1['usa']"
      ]
    },
    {
      "cell_type": "markdown",
      "metadata": {
        "id": "BATVrFCLa9uP"
      },
      "source": [
        "## Operations"
      ]
    },
    {
      "cell_type": "code",
      "execution_count": 24,
      "metadata": {
        "colab": {
          "base_uri": "https://localhost:8080/"
        },
        "id": "oW8SAI2wa9uP",
        "outputId": "e302ebbc-4536-40eb-8424-66659c468473"
      },
      "outputs": [
        {
          "output_type": "execute_result",
          "data": {
            "text/plain": [
              "Index(['Japan', 'China', 'India', 'USA'], dtype='object')"
            ]
          },
          "metadata": {},
          "execution_count": 24
        }
      ],
      "source": [
        "# Grab just the index keys\n",
        "sales_Q1.keys()"
      ]
    },
    {
      "cell_type": "code",
      "execution_count": 25,
      "metadata": {
        "colab": {
          "base_uri": "https://localhost:8080/"
        },
        "id": "g4Ga2TL2a9uP",
        "outputId": "8a81253d-cb51-4f07-d240-f3f3bf14c902"
      },
      "outputs": [
        {
          "output_type": "execute_result",
          "data": {
            "text/plain": [
              "Japan    160\n",
              "China    900\n",
              "India    400\n",
              "USA      500\n",
              "dtype: int64"
            ]
          },
          "metadata": {},
          "execution_count": 25
        }
      ],
      "source": [
        "# Can Perform Operations Broadcasted across entire Series\n",
        "sales_Q1 * 2"
      ]
    },
    {
      "cell_type": "code",
      "execution_count": 26,
      "metadata": {
        "colab": {
          "base_uri": "https://localhost:8080/"
        },
        "id": "eeU46Mwva9uQ",
        "outputId": "7ad81495-40cd-47ce-940d-dfd383eaf6b8"
      },
      "outputs": [
        {
          "output_type": "execute_result",
          "data": {
            "text/plain": [
              "Brazil    1.0\n",
              "China     5.0\n",
              "India     2.1\n",
              "USA       2.6\n",
              "dtype: float64"
            ]
          },
          "metadata": {},
          "execution_count": 26
        }
      ],
      "source": [
        "sales_Q2 / 100"
      ]
    },
    {
      "cell_type": "markdown",
      "metadata": {
        "id": "Fk45tQb4a9uR"
      },
      "source": [
        "## Between Series"
      ]
    },
    {
      "cell_type": "code",
      "execution_count": 27,
      "metadata": {
        "colab": {
          "base_uri": "https://localhost:8080/"
        },
        "id": "qkf0BNh0a9uS",
        "outputId": "34052ee7-62a2-4f99-c8c0-f4b5d6562811"
      },
      "outputs": [
        {
          "output_type": "execute_result",
          "data": {
            "text/plain": [
              "Brazil      NaN\n",
              "China     950.0\n",
              "India     410.0\n",
              "Japan       NaN\n",
              "USA       510.0\n",
              "dtype: float64"
            ]
          },
          "metadata": {},
          "execution_count": 27
        }
      ],
      "source": [
        "# Notice how Pandas informs you of mismatch with NaN\n",
        "sales_Q1 + sales_Q2"
      ]
    },
    {
      "cell_type": "code",
      "execution_count": 28,
      "metadata": {
        "colab": {
          "base_uri": "https://localhost:8080/"
        },
        "id": "5u9eFcOxa9u6",
        "outputId": "26262e57-6053-4e49-f26a-4e66a84fc635"
      },
      "outputs": [
        {
          "output_type": "execute_result",
          "data": {
            "text/plain": [
              "Brazil    100.0\n",
              "China     950.0\n",
              "India     410.0\n",
              "Japan      80.0\n",
              "USA       510.0\n",
              "dtype: float64"
            ]
          },
          "metadata": {},
          "execution_count": 28
        }
      ],
      "source": [
        "# You can fill these with any value you want\n",
        "sales_Q1.add(sales_Q2,fill_value=0)"
      ]
    },
    {
      "cell_type": "markdown",
      "metadata": {
        "id": "skbiTbm9a9u6"
      },
      "source": [
        "That is all we need to know about Series, up next, DataFrames!"
      ]
    }
  ],
  "metadata": {
    "anaconda-cloud": {},
    "kernelspec": {
      "display_name": "Python 3",
      "language": "python",
      "name": "python3"
    },
    "language_info": {
      "codemirror_mode": {
        "name": "ipython",
        "version": 3
      },
      "file_extension": ".py",
      "mimetype": "text/x-python",
      "name": "python",
      "nbconvert_exporter": "python",
      "pygments_lexer": "ipython3",
      "version": "3.8.5"
    },
    "colab": {
      "provenance": [],
      "include_colab_link": true
    }
  },
  "nbformat": 4,
  "nbformat_minor": 0
}