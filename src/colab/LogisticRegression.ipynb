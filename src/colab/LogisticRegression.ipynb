{
  "nbformat": 4,
  "nbformat_minor": 0,
  "metadata": {
    "colab": {
      "provenance": [],
      "authorship_tag": "ABX9TyMyBB1ep/AK+BVjfydkXEti",
      "include_colab_link": true
    },
    "kernelspec": {
      "name": "python3",
      "display_name": "Python 3"
    },
    "language_info": {
      "name": "python"
    }
  },
  "cells": [
    {
      "cell_type": "markdown",
      "metadata": {
        "id": "view-in-github",
        "colab_type": "text"
      },
      "source": [
        "<a href=\"https://colab.research.google.com/github/rokmr/Machine-Learning/blob/main/src/colab/LogisticRegression.ipynb\" target=\"_parent\"><img src=\"https://colab.research.google.com/assets/colab-badge.svg\" alt=\"Open In Colab\"/></a>"
      ]
    },
    {
      "cell_type": "code",
      "source": [
        "import numpy as np\n",
        "from sklearn.model_selection import train_test_split\n",
        "from sklearn import datasets\n",
        "\n",
        "import torch\n",
        "from torch import nn"
      ],
      "metadata": {
        "id": "PY9qyIlNLIfY"
      },
      "execution_count": 1,
      "outputs": []
    },
    {
      "cell_type": "code",
      "source": [
        "def accuracy(y_true, y_pred):\n",
        "    accuracy = np.sum(y_true == y_pred) / len(y_true)\n",
        "    return accuracy"
      ],
      "metadata": {
        "id": "i84Ixs_bLYTu"
      },
      "execution_count": 2,
      "outputs": []
    },
    {
      "cell_type": "markdown",
      "source": [
        "# Data"
      ],
      "metadata": {
        "id": "jSknH9NULP5R"
      }
    },
    {
      "cell_type": "code",
      "source": [
        "bc = datasets.load_breast_cancer()\n",
        "X, y = bc.data, bc.target\n",
        "\n",
        "X_train, X_test, y_train, y_test = train_test_split(X, y, test_size=0.2, random_state=42)"
      ],
      "metadata": {
        "id": "DDIFmHqZLPYi"
      },
      "execution_count": 3,
      "outputs": []
    },
    {
      "cell_type": "markdown",
      "source": [
        "# Numpy"
      ],
      "metadata": {
        "id": "0t0x60sqLMdH"
      }
    },
    {
      "cell_type": "code",
      "execution_count": 4,
      "metadata": {
        "id": "PVyh9Vv1KHPK"
      },
      "outputs": [],
      "source": [
        "import numpy as np\n",
        "\n",
        "\n",
        "class LogisticRegression:\n",
        "    def __init__(self, learning_rate=0.001, n_iters=1000):\n",
        "        self.lr = learning_rate\n",
        "        self.n_iters = n_iters\n",
        "        self.weights = None\n",
        "        self.bias = None\n",
        "\n",
        "    def fit(self, X, y):\n",
        "        n_samples, n_features = X.shape\n",
        "\n",
        "        # init parameters\n",
        "        self.weights = np.zeros(n_features)\n",
        "        self.bias = 0\n",
        "\n",
        "        # gradient descent\n",
        "        for _ in range(self.n_iters):\n",
        "            # approximate y with linear combination of weights and x, plus bias\n",
        "            linear_model = np.dot(X, self.weights) + self.bias\n",
        "            # apply sigmoid function\n",
        "            y_predicted = self._sigmoid(linear_model)\n",
        "\n",
        "            # compute gradients\n",
        "            dw = (1 / n_samples) * np.dot(X.T, (y_predicted - y))\n",
        "            db = (1 / n_samples) * np.sum(y_predicted - y)\n",
        "            # update parameters\n",
        "            self.weights -= self.lr * dw\n",
        "            self.bias -= self.lr * db\n",
        "\n",
        "    def predict(self, X):\n",
        "        linear_model = np.dot(X, self.weights) + self.bias\n",
        "        y_predicted = self._sigmoid(linear_model)\n",
        "        y_predicted_cls = [1 if i > 0.5 else 0 for i in y_predicted]\n",
        "        return np.array(y_predicted_cls)\n",
        "\n",
        "    def _sigmoid(self, x):\n",
        "        return 1 / (1 + np.exp(-x))"
      ]
    },
    {
      "cell_type": "code",
      "source": [
        "regressor = LogisticRegression(learning_rate=0.001, n_iters=1000)\n",
        "regressor.fit(X_train, y_train)\n",
        "predictions = regressor.predict(X_test)\n",
        "print(\"Logistic Regresion classification accuracy:\", accuracy(y_test, predictions))"
      ],
      "metadata": {
        "colab": {
          "base_uri": "https://localhost:8080/"
        },
        "id": "92Wl_mV9MEOy",
        "outputId": "b59cd47c-695b-4da0-b0eb-fb4b26bc59d5"
      },
      "execution_count": 5,
      "outputs": [
        {
          "output_type": "stream",
          "name": "stdout",
          "text": [
            "Logistic Regresion classification accuracy: 0.9473684210526315\n"
          ]
        },
        {
          "output_type": "stream",
          "name": "stderr",
          "text": [
            "<ipython-input-4-471cfd869a1f>:39: RuntimeWarning: overflow encountered in exp\n",
            "  return 1 / (1 + np.exp(-x))\n"
          ]
        }
      ]
    },
    {
      "cell_type": "markdown",
      "source": [
        "# PyTorch"
      ],
      "metadata": {
        "id": "pMw8OrY5ONf6"
      }
    },
    {
      "cell_type": "code",
      "source": [
        "torch.manual_seed(42)\n",
        "class LogisticRegression(nn.Module):\n",
        "    def __init__(self, input_features):\n",
        "        super(LogisticRegression, self).__init__()\n",
        "        self.layer1 = nn.Linear(input_features, 8)\n",
        "        self.layer2 = nn.Linear(8, 1)\n",
        "        self.relu = nn.ReLU()\n",
        "        self.dropout = nn.Dropout(0.5)\n",
        "        self.bn = nn.BatchNorm1d(8)\n",
        "\n",
        "    def forward(self, x):\n",
        "        x = self.layer1(x)\n",
        "        x = self.bn(x)\n",
        "        x = self.relu(x)\n",
        "        x = self.dropout(x)\n",
        "        x = torch.sigmoid(self.layer2(x))\n",
        "        return x"
      ],
      "metadata": {
        "id": "RWfCaNuYlzbX"
      },
      "execution_count": 6,
      "outputs": []
    },
    {
      "cell_type": "code",
      "source": [
        "X_train, X_val, y_train, y_val = train_test_split(X_train, y_train, test_size=0.2, random_state=42)\n",
        "\n",
        "\n",
        "EPOCHS = 1000\n",
        "LR = 0.001\n",
        "BATCH_SIZE = 32\n",
        "\n",
        "input_features = X_train.shape[1]\n",
        "model = LogisticRegression(input_features)\n",
        "optimizer = torch.optim.Adam(params=model.parameters(), lr=LR)\n",
        "loss_fn = nn.BCELoss()\n",
        "\n",
        "\n",
        "X_train = torch.tensor(X_train).float()\n",
        "y_train = torch.tensor(y_train).float().reshape(-1, 1)\n",
        "train_dataset = torch.utils.data.TensorDataset(X_train, y_train)\n",
        "train_loader = torch.utils.data.DataLoader(train_dataset, batch_size=BATCH_SIZE, shuffle=True)\n",
        "\n",
        "\n",
        "best_loss = float('inf')\n",
        "patience = 20    # inceasing it might overfit and dec might underfit\n",
        "patience_counter = 0\n",
        "best_model_state = None\n",
        "\n",
        "for epoch in range(EPOCHS):\n",
        "    epoch_loss = 0\n",
        "    epoch_acc = 0\n",
        "    batches = 0\n",
        "\n",
        "    model.train()\n",
        "    for batch_X, batch_y in train_loader:\n",
        "\n",
        "        y_pred = model(batch_X)\n",
        "        loss = loss_fn(y_pred, batch_y)\n",
        "\n",
        "        optimizer.zero_grad()\n",
        "        loss.backward()\n",
        "        optimizer.step()\n",
        "\n",
        "        epoch_loss += loss.item()\n",
        "        with torch.no_grad():\n",
        "            batch_acc = ((y_pred > 0.5).float() == batch_y).float().mean()\n",
        "            epoch_acc += batch_acc\n",
        "        batches += 1\n",
        "\n",
        "    epoch_loss /= batches\n",
        "    epoch_acc /= batches\n",
        "\n",
        "    if epoch % 100 == 0:\n",
        "        model.eval()\n",
        "        with torch.inference_mode():\n",
        "            X_val_tensor = torch.tensor(X_val).float()\n",
        "            val_pred = model(X_val_tensor)\n",
        "            val_acc = ((val_pred > 0.5).float().squeeze() == torch.tensor(y_val).float()).float().mean()\n",
        "            print(f'Epoch: [{epoch+1}/{EPOCHS}] || Loss: {epoch_loss:.4f} || Train Acc: {epoch_acc:.4f} || Val Acc: {val_acc:.4f}')\n",
        "\n",
        "    if epoch_loss < best_loss:\n",
        "        best_loss = epoch_loss\n",
        "        patience_counter = 0\n",
        "        best_model_state = model.state_dict()\n",
        "    else:\n",
        "        patience_counter += 1\n",
        "\n",
        "    if patience_counter >= patience:\n",
        "        print(f'Early stopping at epoch {epoch} || best loss: {best_loss:.4f}')\n",
        "        model.load_state_dict(best_model_state)\n",
        "        break"
      ],
      "metadata": {
        "colab": {
          "base_uri": "https://localhost:8080/"
        },
        "id": "AH2yKZPmf8_x",
        "outputId": "7ca39cc5-8687-4adf-da1b-89547b7f3ba2"
      },
      "execution_count": 7,
      "outputs": [
        {
          "output_type": "stream",
          "name": "stdout",
          "text": [
            "Epoch: [1/1000] || Loss: 0.7341 || Train Acc: 0.4306 || Val Acc: 0.7912\n",
            "Epoch: [101/1000] || Loss: 0.2259 || Train Acc: 0.9505 || Val Acc: 0.9670\n",
            "Early stopping at epoch 139 || best loss: 0.2010\n"
          ]
        }
      ]
    },
    {
      "cell_type": "code",
      "source": [
        "model.eval()\n",
        "with torch.no_grad():\n",
        "    X_test_tensor = torch.tensor(X_test).float()\n",
        "    predictions = model(X_test_tensor)\n",
        "    predicted_labels = (predictions > 0.5).float().squeeze()\n",
        "    acc = ((predicted_labels == torch.tensor(y_test).float()).float()).mean().item()\n",
        "    print(\"\\nFinal Test Accuracy:\", acc)"
      ],
      "metadata": {
        "colab": {
          "base_uri": "https://localhost:8080/"
        },
        "id": "dfoadw0blZks",
        "outputId": "c3d8ce53-3c88-40a0-c021-0d2162601093"
      },
      "execution_count": 8,
      "outputs": [
        {
          "output_type": "stream",
          "name": "stdout",
          "text": [
            "\n",
            "Final Test Accuracy: 0.9736841917037964\n"
          ]
        }
      ]
    }
  ]
}