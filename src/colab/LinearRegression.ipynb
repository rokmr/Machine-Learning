{
  "nbformat": 4,
  "nbformat_minor": 0,
  "metadata": {
    "colab": {
      "provenance": [],
      "authorship_tag": "ABX9TyO0RkYRsCfNIwH7RcAeh4+3",
      "include_colab_link": true
    },
    "kernelspec": {
      "name": "python3",
      "display_name": "Python 3"
    },
    "language_info": {
      "name": "python"
    }
  },
  "cells": [
    {
      "cell_type": "markdown",
      "metadata": {
        "id": "view-in-github",
        "colab_type": "text"
      },
      "source": [
        "<a href=\"https://colab.research.google.com/github/rokmr/Machine-Learning/blob/main/src/colab/LinearRegression.ipynb\" target=\"_parent\"><img src=\"https://colab.research.google.com/assets/colab-badge.svg\" alt=\"Open In Colab\"/></a>"
      ]
    },
    {
      "cell_type": "code",
      "source": [
        "import torch\n",
        "import numpy as np\n",
        "from torch import nn\n",
        "\n",
        "import matplotlib.pyplot as plt\n",
        "\n",
        "from sklearn import datasets\n",
        "from sklearn.model_selection import train_test_split"
      ],
      "metadata": {
        "id": "X6d6ndZjqtpR"
      },
      "execution_count": 1,
      "outputs": []
    },
    {
      "cell_type": "code",
      "source": [
        "# Basic functions\n",
        "def mean_squared_error(y_true, y_pred):\n",
        "    return np.mean((y_true - y_pred) ** 2)\n",
        "\n",
        "def r2_score(y_true, y_pred):\n",
        "    corr_matrix = np.corrcoef(y_true, y_pred)\n",
        "    corr = corr_matrix[0, 1]\n",
        "    return corr ** 2\n",
        "\n",
        "def accuracy(y_true, y_pred):\n",
        "    accuracy = np.sum(y_true == y_pred) / len(y_true)\n",
        "    return accuracy"
      ],
      "metadata": {
        "id": "VZPqCH2tq3mP"
      },
      "execution_count": 2,
      "outputs": []
    },
    {
      "cell_type": "markdown",
      "source": [
        "# Data Prepration"
      ],
      "metadata": {
        "id": "8My0zRwGrF5b"
      }
    },
    {
      "cell_type": "code",
      "source": [
        "X, y = datasets.make_regression(n_samples=100, n_features=1, noise=20, random_state=4)\n",
        "X_train, X_test, y_train, y_test = train_test_split(X, y, test_size=0.2, random_state=4)"
      ],
      "metadata": {
        "id": "DP1DMEKnrI7C"
      },
      "execution_count": 3,
      "outputs": []
    },
    {
      "cell_type": "markdown",
      "source": [
        "# Numpy"
      ],
      "metadata": {
        "id": "W4syMobQrdKS"
      }
    },
    {
      "cell_type": "code",
      "source": [
        "class LinearRegression:\n",
        "    def __init__(self, learning_rate=0.001, n_iters=1000):\n",
        "        self.lr = learning_rate\n",
        "        self.n_iters = n_iters\n",
        "        self.weights = None\n",
        "        self.bias = None\n",
        "\n",
        "    def fit(self, X, y):\n",
        "        n_samples, n_features = X.shape\n",
        "\n",
        "        # init parameters\n",
        "        self.weights = np.zeros(n_features)\n",
        "        self.bias = 0\n",
        "\n",
        "        # gradient descent\n",
        "        for _ in range(self.n_iters):\n",
        "            y_predicted = np.dot(X, self.weights) + self.bias\n",
        "\n",
        "            # compute gradients\n",
        "            dw = (1 / n_samples) * np.dot(X.T, (y_predicted - y))\n",
        "            db = (1 / n_samples) * np.sum(y_predicted - y)\n",
        "\n",
        "            # update parameters\n",
        "            self.weights -= self.lr * dw\n",
        "            self.bias -= self.lr * db\n",
        "\n",
        "    def predict(self, X):\n",
        "        y_approximated = np.dot(X, self.weights) + self.bias\n",
        "        return y_approximated"
      ],
      "metadata": {
        "id": "8gKDysPerc7D"
      },
      "execution_count": 4,
      "outputs": []
    },
    {
      "cell_type": "code",
      "source": [
        "regressor = LinearRegression(learning_rate=0.01, n_iters=1000)\n",
        "regressor.fit(X_train, y_train)\n",
        "predictions = regressor.predict(X_test)"
      ],
      "metadata": {
        "id": "v4hNzRNUrc4O"
      },
      "execution_count": 5,
      "outputs": []
    },
    {
      "cell_type": "code",
      "source": [
        "mse = mean_squared_error(y_test, predictions)\n",
        "print(\"MSE:\", mse)\n",
        "\n",
        "accu = r2_score(y_test, predictions)\n",
        "print(\"Accuracy:\", accu)"
      ],
      "metadata": {
        "colab": {
          "base_uri": "https://localhost:8080/"
        },
        "id": "JQOU5vCMrcm5",
        "outputId": "15630c14-bf93-4d9a-90af-2595d7708d86"
      },
      "execution_count": 6,
      "outputs": [
        {
          "output_type": "stream",
          "name": "stdout",
          "text": [
            "MSE: 295.15511369424536\n",
            "Accuracy: 0.9621321786806648\n"
          ]
        }
      ]
    },
    {
      "cell_type": "code",
      "source": [
        "y_pred_line = regressor.predict(X)\n",
        "cmap = plt.get_cmap(\"viridis\")\n",
        "fig = plt.figure(figsize=(8, 6))\n",
        "m1 = plt.scatter(X_train, y_train, color=cmap(0.9), s=10)\n",
        "m2 = plt.scatter(X_test, y_test, color=cmap(0.5), s=10)\n",
        "plt.plot(X, y_pred_line, color=\"black\", linewidth=2, label=\"Prediction\")\n",
        "plt.show()"
      ],
      "metadata": {
        "colab": {
          "base_uri": "https://localhost:8080/",
          "height": 522
        },
        "id": "v75AYuyRsGpw",
        "outputId": "6dd53f03-9275-494b-e4cc-716deb4f9547"
      },
      "execution_count": 7,
      "outputs": [
        {
          "output_type": "display_data",
          "data": {
            "text/plain": [
              "<Figure size 800x600 with 1 Axes>"
            ],
            "image/png": "[encoded data removed]"
          },
          "metadata": {}
        }
      ]
    },
    {
      "cell_type": "markdown",
      "source": [
        "# PyTorch"
      ],
      "metadata": {
        "id": "wtXz4ub9A18G"
      }
    },
    {
      "cell_type": "markdown",
      "source": [
        "## Parameter"
      ],
      "metadata": {
        "id": "xN_jso3XE-Ue"
      }
    },
    {
      "cell_type": "code",
      "source": [
        "class LinearRegression(nn.Module):\n",
        "    def __init__(self, input_dim, output_dim):\n",
        "        super(LinearRegression, self).__init__()\n",
        "        self.weights = nn.Parameter(torch.randn(input_dim, output_dim, requires_grad=True))\n",
        "        self.bias = nn.Parameter(torch.randn(1, output_dim, requires_grad=True))\n",
        "\n",
        "    def forward(self, x):\n",
        "        return  torch.matmul(x, self.weights) + self.bias"
      ],
      "metadata": {
        "id": "Bghb4TRqArm-"
      },
      "execution_count": 8,
      "outputs": []
    },
    {
      "cell_type": "code",
      "source": [
        "EPOCHS = 1000\n",
        "LEARNING_RATE = 0.01\n",
        "\n",
        "model = LinearRegression(1, 1)\n",
        "loss_fn = nn.MSELoss()\n",
        "optimizer = torch.optim.SGD(model.parameters(), lr=LEARNING_RATE)\n",
        "\n",
        "X_train = torch.from_numpy(X_train).float()\n",
        "y_train = torch.from_numpy(y_train).float().reshape(-1, 1)  # (80,) -> (80,1)\n",
        "\n",
        "model.train()\n",
        "for epoch in range(EPOCHS):\n",
        "    preds = model(X_train)\n",
        "    loss = loss_fn(preds, y_train)\n",
        "    optimizer.zero_grad()\n",
        "    loss.backward()\n",
        "    optimizer.step()\n",
        "\n",
        "    if (epoch + 1) % 100 == 0:\n",
        "        print(f'Epoch [{epoch+1}/{EPOCHS}] || Loss: {loss.item():.4f}')\n",
        "\n",
        "\n",
        "predictions = model(torch.from_numpy(X_test).float())\n",
        "predictions = predictions.detach().numpy()"
      ],
      "metadata": {
        "colab": {
          "base_uri": "https://localhost:8080/"
        },
        "id": "Qunv5Kg_5Qpm",
        "outputId": "25862984-cced-4833-9a0d-5fa7b1c1384b"
      },
      "execution_count": 9,
      "outputs": [
        {
          "output_type": "stream",
          "name": "stdout",
          "text": [
            "Epoch [100/1000] || Loss: 460.4911\n",
            "Epoch [200/1000] || Loss: 296.4025\n",
            "Epoch [300/1000] || Loss: 290.4766\n",
            "Epoch [400/1000] || Loss: 290.2609\n",
            "Epoch [500/1000] || Loss: 290.2531\n",
            "Epoch [600/1000] || Loss: 290.2528\n",
            "Epoch [700/1000] || Loss: 290.2528\n",
            "Epoch [800/1000] || Loss: 290.2527\n",
            "Epoch [900/1000] || Loss: 290.2528\n",
            "Epoch [1000/1000] || Loss: 290.2528\n"
          ]
        }
      ]
    },
    {
      "cell_type": "code",
      "source": [
        "mse = mean_squared_error(y_test.reshape(-1,1), predictions)\n",
        "print(\"MSE:\", mse)\n",
        "\n",
        "accu = r2_score(y_test, predictions.squeeze())\n",
        "print(\"Accuracy:\", accu)"
      ],
      "metadata": {
        "colab": {
          "base_uri": "https://localhost:8080/"
        },
        "id": "g6-z5gumENtv",
        "outputId": "3c7eb14c-072b-4081-829a-4bc4f13ed174"
      },
      "execution_count": 10,
      "outputs": [
        {
          "output_type": "stream",
          "name": "stdout",
          "text": [
            "MSE: 295.350488392873\n",
            "Accuracy: 0.9621321765832672\n"
          ]
        }
      ]
    },
    {
      "cell_type": "code",
      "source": [
        "y_pred_line = model(torch.from_numpy(X).float())\n",
        "y_pred_line = y_pred_line.detach().numpy()\n",
        "cmap = plt.get_cmap(\"viridis\")\n",
        "fig = plt.figure(figsize=(8, 6))\n",
        "m1 = plt.scatter(X_train, y_train, color=cmap(0.9), s=10)\n",
        "m2 = plt.scatter(X_test, y_test, color=cmap(0.5), s=10)\n",
        "plt.plot(X, y_pred_line, color=\"black\", linewidth=2, label=\"Prediction\")\n",
        "plt.show()"
      ],
      "metadata": {
        "colab": {
          "base_uri": "https://localhost:8080/",
          "height": 522
        },
        "id": "lAIDQn7p65tT",
        "outputId": "5f5e31d1-27c3-425c-bbdf-0664aa44bae7"
      },
      "execution_count": 11,
      "outputs": [
        {
          "output_type": "display_data",
          "data": {
            "text/plain": [
              "<Figure size 800x600 with 1 Axes>"
            ],
            "image/png": "[encoded data removed]"
          },
          "metadata": {}
        }
      ]
    },
    {
      "cell_type": "markdown",
      "source": [
        "## Linear Layer"
      ],
      "metadata": {
        "id": "b0XJVJs7FCvC"
      }
    },
    {
      "cell_type": "code",
      "source": [
        "class LinearRegressionV2(nn.Module):\n",
        "    def __init__(self, input_dim, output_dim):\n",
        "        super(LinearRegressionV2, self).__init__()\n",
        "        self.linear = nn.Linear(input_dim, output_dim)\n",
        "\n",
        "    def forward(self, x):\n",
        "        return  self.linear(x)"
      ],
      "metadata": {
        "id": "rIj_2RifE85u"
      },
      "execution_count": 12,
      "outputs": []
    },
    {
      "cell_type": "code",
      "source": [
        "model = LinearRegressionV2(1, 1)\n",
        "optimizer = torch.optim.SGD(model.parameters(), lr=LEARNING_RATE)\n",
        "\n",
        "\n",
        "model.train()\n",
        "for epoch in range(EPOCHS):\n",
        "    preds = model(X_train)\n",
        "    loss = loss_fn(preds, y_train)\n",
        "    optimizer.zero_grad()\n",
        "    loss.backward()\n",
        "    optimizer.step()\n",
        "\n",
        "    if (epoch + 1) % 100 == 0:\n",
        "        print(f'Epoch [{epoch+1}/{EPOCHS}] || Loss: {loss.item():.4f}')\n",
        "\n",
        "\n",
        "predictions = model(torch.from_numpy(X_test).float())\n",
        "predictions = predictions.detach().numpy()"
      ],
      "metadata": {
        "colab": {
          "base_uri": "https://localhost:8080/"
        },
        "id": "oKFR0-4HFTTd",
        "outputId": "445c3256-d264-417f-8085-0c2337b98aa9"
      },
      "execution_count": 13,
      "outputs": [
        {
          "output_type": "stream",
          "name": "stdout",
          "text": [
            "Epoch [100/1000] || Loss: 462.7935\n",
            "Epoch [200/1000] || Loss: 296.4980\n",
            "Epoch [300/1000] || Loss: 290.4803\n",
            "Epoch [400/1000] || Loss: 290.2611\n",
            "Epoch [500/1000] || Loss: 290.2531\n",
            "Epoch [600/1000] || Loss: 290.2528\n",
            "Epoch [700/1000] || Loss: 290.2528\n",
            "Epoch [800/1000] || Loss: 290.2528\n",
            "Epoch [900/1000] || Loss: 290.2528\n",
            "Epoch [1000/1000] || Loss: 290.2527\n"
          ]
        }
      ]
    },
    {
      "cell_type": "code",
      "source": [
        "mse = mean_squared_error(y_test.reshape(-1,1), predictions)\n",
        "print(\"MSE:\", mse)\n",
        "\n",
        "accu = r2_score(y_test, predictions.squeeze())\n",
        "print(\"Accuracy:\", accu)"
      ],
      "metadata": {
        "colab": {
          "base_uri": "https://localhost:8080/"
        },
        "id": "Rl8_IVlJFhfR",
        "outputId": "eff4ab80-6a67-4da3-a2b9-a53ffbe703a8"
      },
      "execution_count": 14,
      "outputs": [
        {
          "output_type": "stream",
          "name": "stdout",
          "text": [
            "MSE: 295.35046833171384\n",
            "Accuracy: 0.9621321775648273\n"
          ]
        }
      ]
    },
    {
      "cell_type": "code",
      "source": [
        "y_pred_line = model(torch.from_numpy(X).float())\n",
        "y_pred_line = y_pred_line.detach().numpy()\n",
        "cmap = plt.get_cmap(\"viridis\")\n",
        "fig = plt.figure(figsize=(8, 6))\n",
        "m1 = plt.scatter(X_train, y_train, color=cmap(0.9), s=10)\n",
        "m2 = plt.scatter(X_test, y_test, color=cmap(0.5), s=10)\n",
        "plt.plot(X, y_pred_line, color=\"black\", linewidth=2, label=\"Prediction\")\n",
        "plt.show()"
      ],
      "metadata": {
        "colab": {
          "base_uri": "https://localhost:8080/",
          "height": 522
        },
        "id": "VAGN64JuFqWb",
        "outputId": "eb5707bf-0131-47c0-951a-5da470a8a67f"
      },
      "execution_count": 15,
      "outputs": [
        {
          "output_type": "display_data",
          "data": {
            "text/plain": [
              "<Figure size 800x600 with 1 Axes>"
            ],
            "image/png": "[encoded data removed]"
          },
          "metadata": {}
        }
      ]
    }
  ]
}